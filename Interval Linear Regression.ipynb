{
 "cells": [
  {
   "cell_type": "code",
   "execution_count": 1,
   "id": "dc4bdae6",
   "metadata": {},
   "outputs": [],
   "source": [
    "import pandas as pd\n",
    "import numpy as np\n",
    "import matplotlib.pyplot as plt\n",
    "import seaborn as sns\n",
    "import random"
   ]
  },
  {
   "cell_type": "code",
   "execution_count": 2,
   "id": "4c7edf17",
   "metadata": {},
   "outputs": [],
   "source": [
    "X = 2 * np.random.rand(100, 1)"
   ]
  },
  {
   "cell_type": "code",
   "execution_count": 3,
   "id": "18bffdb3",
   "metadata": {},
   "outputs": [],
   "source": [
    "y = -11*X + 4 + 7 * X**2 + np.random.randn(100, 1)"
   ]
  },
  {
   "cell_type": "code",
   "execution_count": 4,
   "id": "8fa473fb",
   "metadata": {},
   "outputs": [],
   "source": [
    "X = np.reshape(X, len(X))"
   ]
  },
  {
   "cell_type": "code",
   "execution_count": 5,
   "id": "a248e86b",
   "metadata": {},
   "outputs": [],
   "source": [
    "y = np.reshape(y, len(y))"
   ]
  },
  {
   "cell_type": "code",
   "execution_count": 6,
   "id": "919339fd",
   "metadata": {},
   "outputs": [
    {
     "data": {
      "image/png": "[encoded data removed]",
      "text/plain": [
       "<Figure size 432x288 with 1 Axes>"
      ]
     },
     "metadata": {
      "needs_background": "light"
     },
     "output_type": "display_data"
    }
   ],
   "source": [
    "plt.scatter(X,y);\n",
    "plt.xlabel('X');\n",
    "plt.ylabel('y');"
   ]
  },
  {
   "cell_type": "code",
   "execution_count": 7,
   "id": "76ff189c",
   "metadata": {},
   "outputs": [],
   "source": [
    "data = pd.Series(data=y, index=X)"
   ]
  },
  {
   "cell_type": "code",
   "execution_count": 8,
   "id": "61dcc004",
   "metadata": {},
   "outputs": [],
   "source": [
    "data = pd.DataFrame(data)"
   ]
  },
  {
   "cell_type": "code",
   "execution_count": 9,
   "id": "4657da58",
   "metadata": {},
   "outputs": [],
   "source": [
    "data = data.reset_index()"
   ]
  },
  {
   "cell_type": "code",
   "execution_count": 10,
   "id": "9ad422e5",
   "metadata": {},
   "outputs": [],
   "source": [
    "data.columns = ['X', 'y']"
   ]
  },
  {
   "cell_type": "code",
   "execution_count": 11,
   "id": "18424136",
   "metadata": {},
   "outputs": [
    {
     "data": {
      "text/html": [
       "<div>\n",
       "<style scoped>\n",
       "    .dataframe tbody tr th:only-of-type {\n",
       "        vertical-align: middle;\n",
       "    }\n",
       "\n",
       "    .dataframe tbody tr th {\n",
       "        vertical-align: top;\n",
       "    }\n",
       "\n",
       "    .dataframe thead th {\n",
       "        text-align: right;\n",
       "    }\n",
       "</style>\n",
       "<table border=\"1\" class=\"dataframe\">\n",
       "  <thead>\n",
       "    <tr style=\"text-align: right;\">\n",
       "      <th></th>\n",
       "      <th>X</th>\n",
       "      <th>y</th>\n",
       "    </tr>\n",
       "  </thead>\n",
       "  <tbody>\n",
       "    <tr>\n",
       "      <th>0</th>\n",
       "      <td>1.699723</td>\n",
       "      <td>6.191295</td>\n",
       "    </tr>\n",
       "    <tr>\n",
       "      <th>1</th>\n",
       "      <td>0.601484</td>\n",
       "      <td>-2.407623</td>\n",
       "    </tr>\n",
       "    <tr>\n",
       "      <th>2</th>\n",
       "      <td>0.764900</td>\n",
       "      <td>-0.505721</td>\n",
       "    </tr>\n",
       "    <tr>\n",
       "      <th>3</th>\n",
       "      <td>1.187796</td>\n",
       "      <td>0.435535</td>\n",
       "    </tr>\n",
       "    <tr>\n",
       "      <th>4</th>\n",
       "      <td>1.225599</td>\n",
       "      <td>-0.123776</td>\n",
       "    </tr>\n",
       "  </tbody>\n",
       "</table>\n",
       "</div>"
      ],
      "text/plain": [
       "          X         y\n",
       "0  1.699723  6.191295\n",
       "1  0.601484 -2.407623\n",
       "2  0.764900 -0.505721\n",
       "3  1.187796  0.435535\n",
       "4  1.225599 -0.123776"
      ]
     },
     "execution_count": 11,
     "metadata": {},
     "output_type": "execute_result"
    }
   ],
   "source": [
    "data.head()"
   ]
  },
  {
   "cell_type": "code",
   "execution_count": 12,
   "id": "a9850628",
   "metadata": {},
   "outputs": [],
   "source": [
    "def initial_batch_gradient_descent(X:'Dataframe', rate=0.1, iterations=1000) -> 'list':\n",
    "    \"\"\"\n",
    "    Calculates coordinates of theta vector (model’s parameter vector containing the bias \n",
    "    term and the feature weights) as a list for the first part of the sorted data by using \n",
    "    Batch Gradient Descent (GD) implementation. Returns a list of theta vector coordinates.\n",
    "    ----------\n",
    "    X : pandas Dataframe,\n",
    "        Input dataset for which theta vector coordinates is calculated in form of a \n",
    "        pandas Dataframe data structure.\n",
    "    rate: float number,\n",
    "        A fixed learning rate.\n",
    "    iterations: integer number,\n",
    "        Number of iterations.\n",
    "    \"\"\"\n",
    "    theta0 = [float(np.random.random(1)) for _ in range(len(X.columns))]\n",
    "    m = len(X)\n",
    "    for i in range(iterations):\n",
    "        gradtheta0 = 2/m*(m*(theta0[0])) - 2/m*(sum(X[f'{X.columns[-1]}']))\n",
    "        for j in range(len(X.columns)-1):\n",
    "            gradtheta0 += 2/m*(sum(X[f'{X.columns[j]}']*theta0[j+1]))\n",
    "        gradthetas = []\n",
    "        \n",
    "        for k in range(len(X.columns)-1):\n",
    "            gradtheta = 2/m*(sum((theta0[0]*X[f'{X.columns[k]}']))) - 2/m*(sum((X[f'{X.columns[-1]}']*X[f'{X.columns[k]}'])))\n",
    "            for j in range(len(X.columns)-1):\n",
    "                gradtheta += 2/m*(sum(X[f'{X.columns[j]}']*theta0[j+1]*X[f'{X.columns[k]}']))\n",
    "            gradthetas.append(gradtheta)\n",
    "            \n",
    "        theta0[0] = theta0[0] - rate*gradtheta0\n",
    "        for i in range(len(gradthetas)):\n",
    "            theta0[i+1] = theta0[i+1] - rate*gradthetas[i]\n",
    "        \n",
    "    return theta0        "
   ]
  },
  {
   "cell_type": "code",
   "execution_count": 13,
   "id": "9bed3191",
   "metadata": {},
   "outputs": [],
   "source": [
    "def batch_gradient_2(old:'Dataframe', new:'Dataframe', theta0, iterations=1000, rate=0.1) -> 'list':\n",
    "    \"\"\"\n",
    "    Calculates coordinates of theta vector (model’s parameter vector containing the bias \n",
    "    term and the feature weights) for each of the other parts of the sorted data (exlude the first part). \n",
    "    Using the data and theta vector's coordinates of the previous set of data the algorithm calculates the coordinates \n",
    "    of a parameter vector of the new data set. Returns a list of theta vector coordinates.\n",
    "    ----------\n",
    "    old : pandas Dataframe,\n",
    "        The first set of the data set.\n",
    "    new: pandas Dataframe,\n",
    "        Input dataset for which theta vector coordinates is calculated in form of a \n",
    "        pandas Dataframe data structure.\n",
    "    rate: float number,\n",
    "        A fixed learning rate.\n",
    "    iterations: integer number,\n",
    "        Number of iterations.\n",
    "    \"\"\"\n",
    "    theta1 = [float(np.random.random(1)) for _ in range(len(new.columns))]\n",
    "    m = len(new)\n",
    "    for i in range(500):\n",
    "        gradthetas = []\n",
    "        for k in range(len(new.columns)-1):\n",
    "            gradtheta = 2/m*sum((theta0[0])*(new[f'{new.columns[k]}'] - old[f'{old.columns[k]}'].iloc[-1])) - 2/m*sum((new[f'{new.columns[-1]}'])*(new[f'{new.columns[k]}'] - old[f'{old.columns[k]}'].iloc[-1]))\n",
    "            for j in range(len(new.columns)-1):\n",
    "                gradtheta += 2/m*sum(theta1[j+1]*(new[f'{new.columns[j]}'] - old[f'{old.columns[j]}'].iloc[-1])*(new[f'{new.columns[k]}'] - old[f'{old.columns[k]}'].iloc[-1]))\n",
    "                gradtheta += 2/m*sum(( old[f'{old.columns[j]}'].iloc[-1]*theta0[j+1])*(new[f'{new.columns[k]}'] - old[f'{old.columns[k]}'].iloc[-1]))\n",
    "            gradthetas.append(gradtheta)\n",
    "\n",
    "        for i in range(len(gradthetas)):\n",
    "            theta1[i+1] = theta1[i+1] - rate*gradthetas[i]\n",
    "\n",
    "        theta1[0] = theta0[0]\n",
    "        for f in range(len(new.columns)-1):\n",
    "            theta1[0] -= (old[f'{old.columns[f]}'].iloc[-1])*(theta1[f+1]-theta0[f+1])\n",
    "    return theta1"
   ]
  },
  {
   "cell_type": "code",
   "execution_count": 14,
   "id": "d13e2ed0",
   "metadata": {},
   "outputs": [],
   "source": [
    "def error_calculation(data_fr:'Dataframe', theta:'list')-> 'float':\n",
    "    '''\n",
    "    Returns the residual sum of squares.\n",
    "    ----------\n",
    "    data_fr : pandas Dataframe,\n",
    "        The data set.\n",
    "    theta: list,\n",
    "        Model’s parameter vector.\n",
    "    '''\n",
    "    J = (sum((np.dot(data_fr.iloc[:,:-1].values, np.array(theta)) - data_fr.iloc[:, -1].values)**2))\n",
    "    return J\n",
    "     "
   ]
  },
  {
   "cell_type": "code",
   "execution_count": 15,
   "id": "30d34101",
   "metadata": {},
   "outputs": [],
   "source": [
    "def data_randomization(data:'Dataframe', n) -> 'list':\n",
    "    '''\n",
    "    Returns the list of random indexes that divide the sorted data set.\n",
    "    ---------\n",
    "    data : pandas Dataframe,\n",
    "        The sorted data set.\n",
    "    n: int,\n",
    "        The number of indexes used to divide the sorted data. The number equals \n",
    "        the number of parts (intervals) that the sorted dataset must be divided minus one.\n",
    "    '''\n",
    "    t = []\n",
    "    for i in range(n):\n",
    "        number = random.randint(1, len(data)-1)\n",
    "        if number in t:\n",
    "            number += 1\n",
    "        t.append(number)\n",
    "            \n",
    "    t.sort()\n",
    "    return t"
   ]
  },
  {
   "cell_type": "code",
   "execution_count": 16,
   "id": "305d8dc9",
   "metadata": {},
   "outputs": [],
   "source": [
    "sorted_data = data.sort_values('X')"
   ]
  },
  {
   "cell_type": "markdown",
   "id": "90a068aa",
   "metadata": {},
   "source": [
    "## Let k = 3 (divide our dataset into three intervals)"
   ]
  },
  {
   "cell_type": "code",
   "execution_count": 27,
   "id": "0dee28ec",
   "metadata": {},
   "outputs": [],
   "source": [
    "k = 3\n",
    "error = 100_000_000\n",
    "final_p = 0\n",
    "iterat = 20\n",
    "\n",
    "for i in range(iterat):\n",
    "    l = []\n",
    "    thetas = []\n",
    "    p = data_randomization(sorted_data, k-1)\n",
    "    l.append(sorted_data.iloc[:p[0],:])\n",
    "    for j in range(k-2):\n",
    "        l.append(sorted_data.iloc[p[j]:p[j+1],:])\n",
    "    l.append(sorted_data.iloc[p[-1]:, :])\n",
    "    \n",
    "    \n",
    "    thetas.append(initial_batch_gradient_descent(l[0]))\n",
    "    for z in range(k-1):\n",
    "        thetas.append(batch_gradient_2(l[z], l[z+1], thetas[z]))\n",
    "        \n",
    "    errors = []\n",
    "    for g in range(k):\n",
    "        l[g].insert(0,' ones', np.ones((len(l[g]))))\n",
    "        errors.append(error_calculation(l[g], thetas[g]))\n",
    "        \n",
    "    J = sum(errors)/len(sorted_data)\n",
    "    if J < error:\n",
    "        error = J\n",
    "        final_p = p\n",
    "        final_thetas = thetas\n",
    "        final_data = l"
   ]
  },
  {
   "cell_type": "code",
   "execution_count": 28,
   "id": "33fceb4a",
   "metadata": {},
   "outputs": [
    {
     "data": {
      "text/plain": [
       "[[3.3197535831232723, -6.789629174841257],\n",
       " [-1.2738078895587397, 1.1867379564593845],\n",
       " [-14.582385043901388, 12.045571296679691]]"
      ]
     },
     "execution_count": 28,
     "metadata": {},
     "output_type": "execute_result"
    }
   ],
   "source": [
    "final_thetas"
   ]
  },
  {
   "cell_type": "code",
   "execution_count": 29,
   "id": "e1da9fc6",
   "metadata": {},
   "outputs": [
    {
     "data": {
      "text/plain": [
       "1.1403571387710258"
      ]
     },
     "execution_count": 29,
     "metadata": {},
     "output_type": "execute_result"
    }
   ],
   "source": [
    "error"
   ]
  },
  {
   "cell_type": "code",
   "execution_count": 30,
   "id": "cae9b8d7",
   "metadata": {},
   "outputs": [
    {
     "data": {
      "image/png": "[encoded data removed]",
      "text/plain": [
       "<Figure size 432x288 with 1 Axes>"
      ]
     },
     "metadata": {
      "needs_background": "light"
     },
     "output_type": "display_data"
    }
   ],
   "source": [
    "for d in range(k):\n",
    "    plt.scatter(final_data[d].X, final_data[d].y)\n",
    "    plt.plot(final_data[d].X, np.dot(final_data[d].iloc[:,:-1].values, final_thetas[d]), 'red')"
   ]
  },
  {
   "cell_type": "markdown",
   "id": "518a0977",
   "metadata": {},
   "source": [
    "## Let k = 5 (divide our dataset into five intervals)"
   ]
  },
  {
   "cell_type": "code",
   "execution_count": 31,
   "id": "89ad2119",
   "metadata": {},
   "outputs": [],
   "source": [
    "k = 5\n",
    "error = 100_000_000\n",
    "final_p = 0\n",
    "iterat = 20\n",
    "\n",
    "for i in range(iterat):\n",
    "    l = []\n",
    "    thetas = []\n",
    "    p = data_randomization(sorted_data, k-1)\n",
    "    l.append(sorted_data.iloc[:p[0],:])\n",
    "    for j in range(k-2):\n",
    "        l.append(sorted_data.iloc[p[j]:p[j+1],:])\n",
    "    l.append(sorted_data.iloc[p[-1]:, :])\n",
    "    \n",
    "    \n",
    "    thetas.append(initial_batch_gradient_descent(l[0]))\n",
    "    for z in range(k-1):\n",
    "        thetas.append(batch_gradient_2(l[z], l[z+1], thetas[z]))\n",
    "        \n",
    "    errors = []\n",
    "    for g in range(k):\n",
    "        l[g].insert(0,' ones', np.ones((len(l[g]))))\n",
    "        errors.append(error_calculation(l[g], thetas[g]))\n",
    "        \n",
    "    J = sum(errors)/len(sorted_data)\n",
    "    if J < error:\n",
    "        error = J\n",
    "        final_p = p\n",
    "        final_thetas = thetas\n",
    "        final_data = l"
   ]
  },
  {
   "cell_type": "code",
   "execution_count": 32,
   "id": "c396c0fd",
   "metadata": {},
   "outputs": [
    {
     "data": {
      "text/plain": [
       "[[3.682843041031229, -9.093597242605169],\n",
       " [2.3599009660515113, -4.546510232299814],\n",
       " [-1.469956658051963, 1.3635781297327774],\n",
       " [-3.3551914559656333, 2.901792939649443],\n",
       " [-18.868840007701674, 14.462141933227736]]"
      ]
     },
     "execution_count": 32,
     "metadata": {},
     "output_type": "execute_result"
    }
   ],
   "source": [
    "final_thetas"
   ]
  },
  {
   "cell_type": "code",
   "execution_count": 33,
   "id": "76d42656",
   "metadata": {},
   "outputs": [
    {
     "data": {
      "text/plain": [
       "1.0922353128431"
      ]
     },
     "execution_count": 33,
     "metadata": {},
     "output_type": "execute_result"
    }
   ],
   "source": [
    "error"
   ]
  },
  {
   "cell_type": "code",
   "execution_count": 34,
   "id": "40096182",
   "metadata": {},
   "outputs": [
    {
     "data": {
      "image/png": "[encoded data removed]",
      "text/plain": [
       "<Figure size 432x288 with 1 Axes>"
      ]
     },
     "metadata": {
      "needs_background": "light"
     },
     "output_type": "display_data"
    }
   ],
   "source": [
    "for d in range(k):\n",
    "    plt.scatter(final_data[d].X, final_data[d].y)\n",
    "    plt.plot(final_data[d].X, np.dot(final_data[d].iloc[:,:-1].values, final_thetas[d]), 'red')"
   ]
  },
  {
   "cell_type": "markdown",
   "id": "62e97ba1",
   "metadata": {},
   "source": [
    "## Let k = 7 (divide our dataset into seven intervals)"
   ]
  },
  {
   "cell_type": "code",
   "execution_count": 35,
   "id": "fc4341cb",
   "metadata": {},
   "outputs": [],
   "source": [
    "k = 7\n",
    "error = 100_000_000\n",
    "final_p = 0\n",
    "iterat = 20\n",
    "\n",
    "for i in range(iterat):\n",
    "    l = []\n",
    "    thetas = []\n",
    "    p = data_randomization(sorted_data, k-1)\n",
    "    l.append(sorted_data.iloc[:p[0],:])\n",
    "    for j in range(k-2):\n",
    "        l.append(sorted_data.iloc[p[j]:p[j+1],:])\n",
    "    l.append(sorted_data.iloc[p[-1]:, :])\n",
    "    \n",
    "    \n",
    "    thetas.append(initial_batch_gradient_descent(l[0]))\n",
    "    for z in range(k-1):\n",
    "        thetas.append(batch_gradient_2(l[z], l[z+1], thetas[z]))\n",
    "        \n",
    "    errors = []\n",
    "    for g in range(k):\n",
    "        l[g].insert(0,' ones', np.ones((len(l[g]))))\n",
    "        errors.append(error_calculation(l[g], thetas[g]))\n",
    "        \n",
    "    J = sum(errors)/len(sorted_data)\n",
    "    if J < error:\n",
    "        error = J\n",
    "        final_p = p\n",
    "        final_thetas = thetas\n",
    "        final_data = l"
   ]
  },
  {
   "cell_type": "code",
   "execution_count": 36,
   "id": "bb0cd601",
   "metadata": {},
   "outputs": [
    {
     "data": {
      "text/plain": [
       "1.0913813591387125"
      ]
     },
     "execution_count": 36,
     "metadata": {},
     "output_type": "execute_result"
    }
   ],
   "source": [
    "error"
   ]
  },
  {
   "cell_type": "code",
   "execution_count": 37,
   "id": "275cecec",
   "metadata": {},
   "outputs": [
    {
     "data": {
      "image/png": "[encoded data removed]",
      "text/plain": [
       "<Figure size 432x288 with 1 Axes>"
      ]
     },
     "metadata": {
      "needs_background": "light"
     },
     "output_type": "display_data"
    }
   ],
   "source": [
    "for d in range(k):\n",
    "    plt.scatter(final_data[d].X, final_data[d].y)\n",
    "    plt.plot(final_data[d].X, np.dot(final_data[d].iloc[:,:-1].values, final_thetas[d]), 'red')"
   ]
  },
  {
   "cell_type": "code",
   "execution_count": 44,
   "id": "a05c0f8f",
   "metadata": {},
   "outputs": [
    {
     "data": {
      "text/plain": [
       "(1.0, 1.2)"
      ]
     },
     "execution_count": 44,
     "metadata": {},
     "output_type": "execute_result"
    },
    {
     "data": {
      "image/png": "[encoded data removed]",
      "text/plain": [
       "<Figure size 432x288 with 1 Axes>"
      ]
     },
     "metadata": {
      "needs_background": "light"
     },
     "output_type": "display_data"
    }
   ],
   "source": [
    "plt.plot([3, 5, 7], [1.1403571387710258, 1.0922353128431, 1.0913813591387125])\n",
    "plt.ylabel('error')\n",
    "plt.xlabel('Number of intervals')\n",
    "plt.ylim(bottom=1, top=1.2)"
   ]
  },
  {
   "cell_type": "code",
   "execution_count": null,
   "id": "4d333fa3",
   "metadata": {},
   "outputs": [],
   "source": []
  }
 ],
 "metadata": {
  "kernelspec": {
   "display_name": "Python 3 (ipykernel)",
   "language": "python",
   "name": "python3"
  },
  "language_info": {
   "codemirror_mode": {
    "name": "ipython",
    "version": 3
   },
   "file_extension": ".py",
   "mimetype": "text/x-python",
   "name": "python",
   "nbconvert_exporter": "python",
   "pygments_lexer": "ipython3",
   "version": "3.9.7"
  }
 },
 "nbformat": 4,
 "nbformat_minor": 5
}
